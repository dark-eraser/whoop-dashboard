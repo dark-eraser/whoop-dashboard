{
 "cells": [
  {
   "cell_type": "markdown",
   "metadata": {},
   "source": [
    "# API Playground\n",
    "\n",
    "Simple notebook that will load the regarding json files and play around with the API.\n",
    "\n",
    "## Authorization\n",
    "\n",
    "First step required to import and authorize the client"
   ]
  },
  {
   "cell_type": "code",
   "execution_count": null,
   "metadata": {},
   "outputs": [],
   "source": [
    "import os, sys\n",
    "from pathlib import Path\n",
    "import json\n",
    "\n",
    "# include parent path\n",
    "CUR_DIR = Path(os.getcwd())\n",
    "sys.path.insert(0, str(CUR_DIR / \"..\"))\n",
    "\n",
    "import whoopy\n",
    "print(whoopy.__version__)\n",
    "\n",
    "from whoopy import WhoopClient, SPORT_IDS\n",
    "\n",
    "# create few variables\n",
    "TOKEN = CUR_DIR / \".tokens\" / \"token.json\"\n",
    "CONFIG = CUR_DIR / \"..\" / \"config.json\"\n",
    "\n",
    "# init client\n",
    "client = WhoopClient.from_token_or_flow(CONFIG, TOKEN)\n",
    "client.user.profile()"
   ]
  },
  {
   "cell_type": "markdown",
   "metadata": {},
   "source": [
    "## Retrieve Data\n",
    "\n",
    "Now that the client is init, we can retrive data:"
   ]
  },
  {
   "cell_type": "code",
   "execution_count": null,
   "metadata": {},
   "outputs": [],
   "source": [
    "client.recovery.collection_df()"
   ]
  }
 ],
 "metadata": {
  "kernelspec": {
   "display_name": "Python 3.10.6 ('yournal-dev')",
   "language": "python",
   "name": "python3"
  },
  "language_info": {
   "codemirror_mode": {
    "name": "ipython",
    "version": 3
   },
   "file_extension": ".py",
   "mimetype": "text/x-python",
   "name": "python",
   "nbconvert_exporter": "python",
   "pygments_lexer": "ipython3",
   "version": "3.10.6"
  },
  "orig_nbformat": 4,
  "vscode": {
   "interpreter": {
    "hash": "05a2bd840428ce91ea2aa56076af16425090d769fb98ba13745aee6335568fc3"
   }
  }
 },
 "nbformat": 4,
 "nbformat_minor": 2
}
